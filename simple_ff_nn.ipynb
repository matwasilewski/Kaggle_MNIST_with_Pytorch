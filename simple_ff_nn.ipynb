{
 "cells": [
  {
   "cell_type": "code",
   "execution_count": 1,
   "metadata": {},
   "outputs": [],
   "source": [
    "import torch\n",
    "import torch.nn as nn\n",
    "import torch.nn.functional as F\n",
    "from torch import autograd\n",
    "from torch.utils import data\n",
    "from torch.backends import cudnn\n",
    "import utils\n",
    "\n",
    "import pandas as pd\n",
    "import numpy as np"
   ]
  },
  {
   "cell_type": "code",
   "execution_count": 2,
   "metadata": {},
   "outputs": [],
   "source": [
    "import utils.dataLoader\n",
    "from utils.digitPrinter import print_digit\n",
    "from utils.dataLoader import get_train_valid_loader"
   ]
  },
  {
   "cell_type": "markdown",
   "metadata": {},
   "source": [
    "#### HYPERPARAMETER & CONFIGURATIONS"
   ]
  },
  {
   "cell_type": "code",
   "execution_count": 3,
   "metadata": {},
   "outputs": [],
   "source": [
    "learning_rate = 0.01\n",
    "max_epochs = 20\n",
    "batch_size = 800"
   ]
  },
  {
   "cell_type": "code",
   "execution_count": 4,
   "metadata": {},
   "outputs": [],
   "source": [
    "use_cuda = torch.cuda.is_available()\n",
    "device = torch.device(\"cuda:0\" if use_cuda else \"cpu\")\n",
    "cudnn.benchmark = True"
   ]
  },
  {
   "cell_type": "markdown",
   "metadata": {},
   "source": [
    "#### NEURAL NET"
   ]
  },
  {
   "cell_type": "code",
   "execution_count": 5,
   "metadata": {},
   "outputs": [],
   "source": [
    "class Net(nn.Module):\n",
    "    def __init__(self):\n",
    "        super(Net, self).__init__()\n",
    "        # three layers, input -> 250 -> 250 -> 10\n",
    "        self.linear1 = nn.Linear(784, 250)\n",
    "        self.linear2 = nn.Linear(250, 250)\n",
    "        self.linear3 = nn.Linear(250, 250)\n",
    "        self.linear4 = nn.Linear(250, 10)\n",
    "\n",
    "    def forward(self, x):\n",
    "        # activation functions between layers\n",
    "        x = F.relu(self.linear1(x))\n",
    "        x = F.relu(self.linear2(x))\n",
    "        x = F.relu(self.linear3(x))\n",
    "        x = self.linear4(x)\n",
    "        return F.log_softmax(x, dim=1)"
   ]
  },
  {
   "cell_type": "markdown",
   "metadata": {},
   "source": [
    "#### READ DATA"
   ]
  },
  {
   "cell_type": "code",
   "execution_count": 6,
   "metadata": {},
   "outputs": [],
   "source": [
    "train_loader, valid_loader = get_train_valid_loader(\"data/train.csv\", batch_size, 10, 0.2)"
   ]
  },
  {
   "cell_type": "code",
   "execution_count": 7,
   "metadata": {},
   "outputs": [],
   "source": [
    "# print_digit(valid_loader, 5)"
   ]
  },
  {
   "cell_type": "markdown",
   "metadata": {},
   "source": [
    "### Initialize the net"
   ]
  },
  {
   "cell_type": "code",
   "execution_count": 8,
   "metadata": {},
   "outputs": [
    {
     "name": "stdout",
     "output_type": "stream",
     "text": [
      "Net(\n",
      "  (linear1): Linear(in_features=784, out_features=250, bias=True)\n",
      "  (linear2): Linear(in_features=250, out_features=250, bias=True)\n",
      "  (linear3): Linear(in_features=250, out_features=250, bias=True)\n",
      "  (linear4): Linear(in_features=250, out_features=10, bias=True)\n",
      ")\n"
     ]
    }
   ],
   "source": [
    "# create NNet instance and initialize optimizer and criterion\n",
    "net = Net()\n",
    "optimizer = torch.optim.SGD(net.parameters(), lr=learning_rate, momentum=0.9)\n",
    "criterion = nn.NLLLoss()\n",
    "print(net)"
   ]
  },
  {
   "cell_type": "code",
   "execution_count": 9,
   "metadata": {},
   "outputs": [],
   "source": [
    "train_loader, valid_loader = get_train_valid_loader(\"data/train.csv\", batch_size, 10, 0.2)"
   ]
  },
  {
   "cell_type": "code",
   "execution_count": null,
   "metadata": {},
   "outputs": [
    {
     "name": "stdout",
     "output_type": "stream",
     "text": [
      "Train Epoch: 0 [0/33600 (0%)]\tLoss: 5.075068\n",
      "Train Epoch: 0 [4000/33600 (12%)]\tLoss: 3.419500\n",
      "Train Epoch: 0 [8000/33600 (24%)]\tLoss: 2.188600\n",
      "Train Epoch: 0 [12000/33600 (36%)]\tLoss: 1.563468\n",
      "Train Epoch: 0 [16000/33600 (48%)]\tLoss: 1.192750\n",
      "Train Epoch: 0 [20000/33600 (60%)]\tLoss: 1.128364\n",
      "Train Epoch: 0 [24000/33600 (71%)]\tLoss: 0.868010\n",
      "Train Epoch: 0 [28000/33600 (83%)]\tLoss: 0.764804\n",
      "Train Epoch: 0 [32000/33600 (95%)]\tLoss: 0.649584\n",
      "Accuracy of the network on validation images: 82 %\n",
      "Train Epoch: 1 [0/33600 (0%)]\tLoss: 0.539010\n",
      "Train Epoch: 1 [4000/33600 (12%)]\tLoss: 0.511540\n",
      "Train Epoch: 1 [8000/33600 (24%)]\tLoss: 0.451695\n",
      "Train Epoch: 1 [12000/33600 (36%)]\tLoss: 0.359470\n",
      "Train Epoch: 1 [16000/33600 (48%)]\tLoss: 0.330833\n",
      "Train Epoch: 1 [20000/33600 (60%)]\tLoss: 0.323070\n"
     ]
    }
   ],
   "source": [
    "# Loop over epochs\n",
    "for epoch in range(max_epochs):\n",
    "    # Training\n",
    "    batch_idx = 0\n",
    "    for local_train in train_loader:\n",
    "        # Transfer to GPU\n",
    "        local_batch = local_train['image']\n",
    "        local_labels = local_train['label']\n",
    "        \n",
    "        # print(local_batch.shape)\n",
    "        # print(local_labels.shape)\n",
    "        local_batch, local_labels = local_batch.to(device), local_labels.to(device)\n",
    "        \n",
    "        # Model computations\n",
    "        optimizer.zero_grad()\n",
    "\n",
    "        output = net(local_batch.float())\n",
    "        loss = criterion(output, local_labels)\n",
    "        loss.backward()\n",
    "        optimizer.step()\n",
    "        \n",
    "        if batch_idx % 5 == 0:\n",
    "            print('Train Epoch: {} [{}/{} ({:.0f}%)]\\tLoss: {:.6f}'.format(\n",
    "                epoch, batch_idx * len(local_batch), len(train_loader.sampler.indices),\n",
    "                100. * batch_idx / len(train_loader), loss.data.item()))\n",
    "        \n",
    "        batch_idx += 1        \n",
    "\n",
    "        \n",
    "    # Validation\n",
    "    with torch.set_grad_enabled(False):\n",
    "        correct = 0\n",
    "        total = 0\n",
    "        for local_validate in valid_loader:\n",
    "            # Transfer to GPU\n",
    "            local_batch = local_validate['image']\n",
    "            local_labels = local_validate['label']\n",
    "        \n",
    "            local_batch, local_labels = local_batch.to(device), local_labels.to(device)\n",
    "                \n",
    "            outputs = net(local_batch.float())\n",
    "            _, predicted = torch.max(outputs.data, 1)\n",
    "            total += len(local_labels)\n",
    "            correct += (predicted == local_labels).sum().item()\n",
    "\n",
    "        print('Accuracy of the network on validation images: %d %%' % (\n",
    "            100 * correct / total))"
   ]
  }
 ],
 "metadata": {
  "kernelspec": {
   "display_name": "Python 3",
   "language": "python",
   "name": "python3"
  },
  "language_info": {
   "codemirror_mode": {
    "name": "ipython",
    "version": 3
   },
   "file_extension": ".py",
   "mimetype": "text/x-python",
   "name": "python",
   "nbconvert_exporter": "python",
   "pygments_lexer": "ipython3",
   "version": "3.7.6"
  }
 },
 "nbformat": 4,
 "nbformat_minor": 4
}
